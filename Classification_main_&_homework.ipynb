{
  "cells": [
    {
      "cell_type": "markdown",
      "metadata": {
        "id": "VuX4Tmgp0MZE"
      },
      "source": [
        "# Data inputs and Display Libraries\n",
        "\n"
      ]
    },
    {
      "cell_type": "code",
      "execution_count": null,
      "metadata": {
        "id": "9bJmiGN30MZM"
      },
      "outputs": [],
      "source": [
        "\n",
        "import pandas as pd\n",
        "import numpy as np\n",
        "\n",
        "pd.set_option('display.float_format', lambda x: '%.5f' % x)\n",
        "from IPython.core.interactiveshell import InteractiveShell\n",
        "InteractiveShell.ast_node_interactivity = 'all'\n"
      ]
    },
    {
      "cell_type": "code",
      "execution_count": null,
      "metadata": {
        "colab": {
          "base_uri": "https://localhost:8080/"
        },
        "id": "sEWZSOQa6sip",
        "outputId": "cfd9374a-383f-4cb5-8c23-7a49b7f7a02c"
      },
      "outputs": [
        {
          "name": "stdout",
          "output_type": "stream",
          "text": [
            "Collecting unrar\n",
            "  Downloading unrar-0.4-py3-none-any.whl (25 kB)\n",
            "Installing collected packages: unrar\n",
            "Successfully installed unrar-0.4\n"
          ]
        }
      ],
      "source": [
        "#Installing Libraries\n",
        "\n",
        "\n",
        "!pip install unrar"
      ]
    },
    {
      "cell_type": "code",
      "execution_count": null,
      "metadata": {
        "colab": {
          "base_uri": "https://localhost:8080/"
        },
        "id": "QSBIEOu59j3u",
        "outputId": "fccc060e-89e9-4406-941d-ca8d3e1a018d"
      },
      "outputs": [
        {
          "name": "stdout",
          "output_type": "stream",
          "text": [
            "--2022-04-02 01:55:14--  https://github.com/univai-ghf/ghfmedia/raw/main/data/Classification/prep_file.rar\n",
            "Resolving github.com (github.com)... 140.82.112.3\n",
            "Connecting to github.com (github.com)|140.82.112.3|:443... connected.\n",
            "HTTP request sent, awaiting response... 302 Found\n",
            "Location: https://raw.githubusercontent.com/univai-ghf/ghfmedia/main/data/Classification/prep_file.rar [following]\n",
            "--2022-04-02 01:55:14--  https://raw.githubusercontent.com/univai-ghf/ghfmedia/main/data/Classification/prep_file.rar\n",
            "Resolving raw.githubusercontent.com (raw.githubusercontent.com)... 185.199.110.133, 185.199.109.133, 185.199.108.133, ...\n",
            "Connecting to raw.githubusercontent.com (raw.githubusercontent.com)|185.199.110.133|:443... connected.\n",
            "HTTP request sent, awaiting response... 200 OK\n",
            "Length: 954088 (932K) [application/octet-stream]\n",
            "Saving to: ‘prep_file.rar’\n",
            "\n",
            "prep_file.rar       100%[===================>] 931.73K  --.-KB/s    in 0.009s  \n",
            "\n",
            "2022-04-02 01:55:14 (102 MB/s) - ‘prep_file.rar’ saved [954088/954088]\n",
            "\n",
            "--2022-04-02 01:55:14--  https://github.com/univai-ghf/ghfmedia/raw/main/data/Classification/num_cols.csv\n",
            "Resolving github.com (github.com)... 140.82.112.3\n",
            "Connecting to github.com (github.com)|140.82.112.3|:443... connected.\n",
            "HTTP request sent, awaiting response... 302 Found\n",
            "Location: https://raw.githubusercontent.com/univai-ghf/ghfmedia/main/data/Classification/num_cols.csv [following]\n",
            "--2022-04-02 01:55:15--  https://raw.githubusercontent.com/univai-ghf/ghfmedia/main/data/Classification/num_cols.csv\n",
            "Resolving raw.githubusercontent.com (raw.githubusercontent.com)... 185.199.108.133, 185.199.111.133, 185.199.110.133, ...\n",
            "Connecting to raw.githubusercontent.com (raw.githubusercontent.com)|185.199.108.133|:443... connected.\n",
            "HTTP request sent, awaiting response... 200 OK\n",
            "Length: 95 [text/plain]\n",
            "Saving to: ‘num_cols.csv’\n",
            "\n",
            "num_cols.csv        100%[===================>]      95  --.-KB/s    in 0s      \n",
            "\n",
            "2022-04-02 01:55:15 (3.34 MB/s) - ‘num_cols.csv’ saved [95/95]\n",
            "\n",
            "--2022-04-02 01:55:15--  https://github.com/univai-ghf/ghfmedia/raw/main/data/Classification/str_cols.csv\n",
            "Resolving github.com (github.com)... 140.82.112.3\n",
            "Connecting to github.com (github.com)|140.82.112.3|:443... connected.\n",
            "HTTP request sent, awaiting response... 302 Found\n",
            "Location: https://raw.githubusercontent.com/univai-ghf/ghfmedia/main/data/Classification/str_cols.csv [following]\n",
            "--2022-04-02 01:55:15--  https://raw.githubusercontent.com/univai-ghf/ghfmedia/main/data/Classification/str_cols.csv\n",
            "Resolving raw.githubusercontent.com (raw.githubusercontent.com)... 185.199.108.133, 185.199.109.133, 185.199.110.133, ...\n",
            "Connecting to raw.githubusercontent.com (raw.githubusercontent.com)|185.199.108.133|:443... connected.\n",
            "HTTP request sent, awaiting response... 200 OK\n",
            "Length: 82 [text/plain]\n",
            "Saving to: ‘str_cols.csv’\n",
            "\n",
            "str_cols.csv        100%[===================>]      82  --.-KB/s    in 0s      \n",
            "\n",
            "2022-04-02 01:55:15 (4.33 MB/s) - ‘str_cols.csv’ saved [82/82]\n",
            "\n"
          ]
        }
      ],
      "source": [
        "# !git clone https://github.com/univai-ghf/ClassificationWorkshop.git\n",
        "\n",
        "!wget \"https://github.com/univai-ghf/ghfmedia/raw/main/data/Classification/prep_file.rar\"\n",
        "!wget \"https://github.com/univai-ghf/ghfmedia/raw/main/data/Classification/num_cols.csv\"\n",
        "!wget \"https://github.com/univai-ghf/ghfmedia/raw/main/data/Classification/str_cols.csv\""
      ]
    },
    {
      "cell_type": "code",
      "execution_count": null,
      "metadata": {
        "colab": {
          "base_uri": "https://localhost:8080/"
        },
        "id": "ZcsbVaQE954l",
        "outputId": "795c04b3-f72b-4828-d79f-a69017c06943"
      },
      "outputs": [
        {
          "name": "stdout",
          "output_type": "stream",
          "text": [
            "\n",
            "UNRAR 5.50 freeware      Copyright (c) 1993-2017 Alexander Roshal\n",
            "\n",
            "\n",
            "Extracting from ./prep_file.rar\n",
            "\n",
            "Extracting  ./prep_file.csv                                              \b\b\b\b  3%\b\b\b\b  6%\b\b\b\b 10%\b\b\b\b 13%\b\b\b\b 17%\b\b\b\b 20%\b\b\b\b 24%\b\b\b\b 27%\b\b\b\b 30%\b\b\b\b 34%\b\b\b\b 37%\b\b\b\b 41%\b\b\b\b 44%\b\b\b\b 48%\b\b\b\b 51%\b\b\b\b 54%\b\b\b\b 58%\b\b\b\b 61%\b\b\b\b 65%\b\b\b\b 68%\b\b\b\b 72%\b\b\b\b 75%\b\b\b\b 78%\b\b\b\b 82%\b\b\b\b 85%\b\b\b\b 89%\b\b\b\b 92%\b\b\b\b 96%\b\b\b\b 99%\b\b\b\b\b  OK \n",
            "All OK\n"
          ]
        }
      ],
      "source": [
        "#! unzip -q 'workshop_classification/prep_file.rar' -d 'workshop_classification/prep_file.csv'\n",
        "!unrar x './prep_file.rar'  './'"
      ]
    },
    {
      "cell_type": "code",
      "execution_count": null,
      "metadata": {
        "id": "epqzGGEDKjc8"
      },
      "outputs": [],
      "source": [
        "### Run till here"
      ]
    },
    {
      "cell_type": "code",
      "execution_count": null,
      "metadata": {
        "id": "X8UPEaJM0MZl"
      },
      "outputs": [],
      "source": [
        "t1 = pd.read_csv(\"prep_file.csv\",sep=\",\")"
      ]
    },
    {
      "cell_type": "markdown",
      "metadata": {
        "id": "RGRhQqws0MZn"
      },
      "source": [
        "# Step 1-  Look at the data"
      ]
    },
    {
      "cell_type": "code",
      "execution_count": null,
      "metadata": {
        "colab": {
          "base_uri": "https://localhost:8080/",
          "height": 305
        },
        "id": "nCAFufZ-0MZp",
        "outputId": "67ebd0cc-c7f4-4fa1-c9e1-d0c589b5b8b5"
      },
      "outputs": [
        {
          "data": {
            "text/html": [
              "\n",
              "  <div id=\"df-57d9b88b-c984-434a-b4b9-c06e8ed262a2\">\n",
              "    <div class=\"colab-df-container\">\n",
              "      <div>\n",
              "<style scoped>\n",
              "    .dataframe tbody tr th:only-of-type {\n",
              "        vertical-align: middle;\n",
              "    }\n",
              "\n",
              "    .dataframe tbody tr th {\n",
              "        vertical-align: top;\n",
              "    }\n",
              "\n",
              "    .dataframe thead th {\n",
              "        text-align: right;\n",
              "    }\n",
              "</style>\n",
              "<table border=\"1\" class=\"dataframe\">\n",
              "  <thead>\n",
              "    <tr style=\"text-align: right;\">\n",
              "      <th></th>\n",
              "      <th>Unnamed: 0</th>\n",
              "      <th>income</th>\n",
              "      <th>age</th>\n",
              "      <th>experience</th>\n",
              "      <th>bureau_score</th>\n",
              "      <th>married</th>\n",
              "      <th>house_ownership</th>\n",
              "      <th>car_ownership</th>\n",
              "      <th>risk_flag</th>\n",
              "      <th>profession</th>\n",
              "      <th>city</th>\n",
              "      <th>state</th>\n",
              "      <th>current_job_years</th>\n",
              "      <th>current_house_years</th>\n",
              "      <th>device</th>\n",
              "    </tr>\n",
              "  </thead>\n",
              "  <tbody>\n",
              "    <tr>\n",
              "      <th>0</th>\n",
              "      <td>19607</td>\n",
              "      <td>2514921</td>\n",
              "      <td>31.00000</td>\n",
              "      <td>4.00000</td>\n",
              "      <td>651.00000</td>\n",
              "      <td>single</td>\n",
              "      <td>rented</td>\n",
              "      <td>no</td>\n",
              "      <td>0</td>\n",
              "      <td>Psychologist</td>\n",
              "      <td>Chandrapur</td>\n",
              "      <td>Maharashtra</td>\n",
              "      <td>4.00000</td>\n",
              "      <td>14.00000</td>\n",
              "      <td>Oppo</td>\n",
              "    </tr>\n",
              "    <tr>\n",
              "      <th>1</th>\n",
              "      <td>75516</td>\n",
              "      <td>7047674</td>\n",
              "      <td>28.00000</td>\n",
              "      <td>4.00000</td>\n",
              "      <td>526.00000</td>\n",
              "      <td>single</td>\n",
              "      <td>rented</td>\n",
              "      <td>yes</td>\n",
              "      <td>0</td>\n",
              "      <td>Economist</td>\n",
              "      <td>Ramagundam[27]</td>\n",
              "      <td>Telangana</td>\n",
              "      <td>3.00000</td>\n",
              "      <td>13.00000</td>\n",
              "      <td>Xiaomi</td>\n",
              "    </tr>\n",
              "    <tr>\n",
              "      <th>2</th>\n",
              "      <td>63804</td>\n",
              "      <td>2749317</td>\n",
              "      <td>30.00000</td>\n",
              "      <td>2.00000</td>\n",
              "      <td>526.00000</td>\n",
              "      <td>single</td>\n",
              "      <td>rented</td>\n",
              "      <td>no</td>\n",
              "      <td>0</td>\n",
              "      <td>Secretary</td>\n",
              "      <td>Ramagundam[27]</td>\n",
              "      <td>Telangana</td>\n",
              "      <td>2.00000</td>\n",
              "      <td>14.00000</td>\n",
              "      <td>samsung</td>\n",
              "    </tr>\n",
              "    <tr>\n",
              "      <th>3</th>\n",
              "      <td>63676</td>\n",
              "      <td>7378274</td>\n",
              "      <td>24.00000</td>\n",
              "      <td>0.00000</td>\n",
              "      <td>764.00000</td>\n",
              "      <td>single</td>\n",
              "      <td>rented</td>\n",
              "      <td>no</td>\n",
              "      <td>0</td>\n",
              "      <td>Flight attendant</td>\n",
              "      <td>Adoni</td>\n",
              "      <td>Andhra Pradesh</td>\n",
              "      <td>0.00000</td>\n",
              "      <td>11.00000</td>\n",
              "      <td>samsung</td>\n",
              "    </tr>\n",
              "    <tr>\n",
              "      <th>4</th>\n",
              "      <td>50914</td>\n",
              "      <td>9574585</td>\n",
              "      <td>27.00000</td>\n",
              "      <td>5.00000</td>\n",
              "      <td>739.00000</td>\n",
              "      <td>single</td>\n",
              "      <td>rented</td>\n",
              "      <td>yes</td>\n",
              "      <td>0</td>\n",
              "      <td>Technician</td>\n",
              "      <td>Imphal</td>\n",
              "      <td>Manipur</td>\n",
              "      <td>5.00000</td>\n",
              "      <td>10.00000</td>\n",
              "      <td>Vivo</td>\n",
              "    </tr>\n",
              "  </tbody>\n",
              "</table>\n",
              "</div>\n",
              "      <button class=\"colab-df-convert\" onclick=\"convertToInteractive('df-57d9b88b-c984-434a-b4b9-c06e8ed262a2')\"\n",
              "              title=\"Convert this dataframe to an interactive table.\"\n",
              "              style=\"display:none;\">\n",
              "        \n",
              "  <svg xmlns=\"http://www.w3.org/2000/svg\" height=\"24px\"viewBox=\"0 0 24 24\"\n",
              "       width=\"24px\">\n",
              "    <path d=\"M0 0h24v24H0V0z\" fill=\"none\"/>\n",
              "    <path d=\"M18.56 5.44l.94 2.06.94-2.06 2.06-.94-2.06-.94-.94-2.06-.94 2.06-2.06.94zm-11 1L8.5 8.5l.94-2.06 2.06-.94-2.06-.94L8.5 2.5l-.94 2.06-2.06.94zm10 10l.94 2.06.94-2.06 2.06-.94-2.06-.94-.94-2.06-.94 2.06-2.06.94z\"/><path d=\"M17.41 7.96l-1.37-1.37c-.4-.4-.92-.59-1.43-.59-.52 0-1.04.2-1.43.59L10.3 9.45l-7.72 7.72c-.78.78-.78 2.05 0 2.83L4 21.41c.39.39.9.59 1.41.59.51 0 1.02-.2 1.41-.59l7.78-7.78 2.81-2.81c.8-.78.8-2.07 0-2.86zM5.41 20L4 18.59l7.72-7.72 1.47 1.35L5.41 20z\"/>\n",
              "  </svg>\n",
              "      </button>\n",
              "      \n",
              "  <style>\n",
              "    .colab-df-container {\n",
              "      display:flex;\n",
              "      flex-wrap:wrap;\n",
              "      gap: 12px;\n",
              "    }\n",
              "\n",
              "    .colab-df-convert {\n",
              "      background-color: #E8F0FE;\n",
              "      border: none;\n",
              "      border-radius: 50%;\n",
              "      cursor: pointer;\n",
              "      display: none;\n",
              "      fill: #1967D2;\n",
              "      height: 32px;\n",
              "      padding: 0 0 0 0;\n",
              "      width: 32px;\n",
              "    }\n",
              "\n",
              "    .colab-df-convert:hover {\n",
              "      background-color: #E2EBFA;\n",
              "      box-shadow: 0px 1px 2px rgba(60, 64, 67, 0.3), 0px 1px 3px 1px rgba(60, 64, 67, 0.15);\n",
              "      fill: #174EA6;\n",
              "    }\n",
              "\n",
              "    [theme=dark] .colab-df-convert {\n",
              "      background-color: #3B4455;\n",
              "      fill: #D2E3FC;\n",
              "    }\n",
              "\n",
              "    [theme=dark] .colab-df-convert:hover {\n",
              "      background-color: #434B5C;\n",
              "      box-shadow: 0px 1px 3px 1px rgba(0, 0, 0, 0.15);\n",
              "      filter: drop-shadow(0px 1px 2px rgba(0, 0, 0, 0.3));\n",
              "      fill: #FFFFFF;\n",
              "    }\n",
              "  </style>\n",
              "\n",
              "      <script>\n",
              "        const buttonEl =\n",
              "          document.querySelector('#df-57d9b88b-c984-434a-b4b9-c06e8ed262a2 button.colab-df-convert');\n",
              "        buttonEl.style.display =\n",
              "          google.colab.kernel.accessAllowed ? 'block' : 'none';\n",
              "\n",
              "        async function convertToInteractive(key) {\n",
              "          const element = document.querySelector('#df-57d9b88b-c984-434a-b4b9-c06e8ed262a2');\n",
              "          const dataTable =\n",
              "            await google.colab.kernel.invokeFunction('convertToInteractive',\n",
              "                                                     [key], {});\n",
              "          if (!dataTable) return;\n",
              "\n",
              "          const docLinkHtml = 'Like what you see? Visit the ' +\n",
              "            '<a target=\"_blank\" href=https://colab.research.google.com/notebooks/data_table.ipynb>data table notebook</a>'\n",
              "            + ' to learn more about interactive tables.';\n",
              "          element.innerHTML = '';\n",
              "          dataTable['output_type'] = 'display_data';\n",
              "          await google.colab.output.renderOutput(dataTable, element);\n",
              "          const docLink = document.createElement('div');\n",
              "          docLink.innerHTML = docLinkHtml;\n",
              "          element.appendChild(docLink);\n",
              "        }\n",
              "      </script>\n",
              "    </div>\n",
              "  </div>\n",
              "  "
            ],
            "text/plain": [
              "   Unnamed: 0   income      age  experience  bureau_score married  \\\n",
              "0       19607  2514921 31.00000     4.00000     651.00000  single   \n",
              "1       75516  7047674 28.00000     4.00000     526.00000  single   \n",
              "2       63804  2749317 30.00000     2.00000     526.00000  single   \n",
              "3       63676  7378274 24.00000     0.00000     764.00000  single   \n",
              "4       50914  9574585 27.00000     5.00000     739.00000  single   \n",
              "\n",
              "  house_ownership car_ownership  risk_flag        profession            city  \\\n",
              "0          rented            no          0      Psychologist      Chandrapur   \n",
              "1          rented           yes          0         Economist  Ramagundam[27]   \n",
              "2          rented            no          0         Secretary  Ramagundam[27]   \n",
              "3          rented            no          0  Flight attendant           Adoni   \n",
              "4          rented           yes          0        Technician          Imphal   \n",
              "\n",
              "            state  current_job_years  current_house_years   device  \n",
              "0     Maharashtra            4.00000             14.00000     Oppo  \n",
              "1       Telangana            3.00000             13.00000  Xiaomi   \n",
              "2       Telangana            2.00000             14.00000  samsung  \n",
              "3  Andhra Pradesh            0.00000             11.00000  samsung  \n",
              "4         Manipur            5.00000             10.00000     Vivo  "
            ]
          },
          "execution_count": 8,
          "metadata": {},
          "output_type": "execute_result"
        }
      ],
      "source": [
        "t1.head()"
      ]
    },
    {
      "cell_type": "code",
      "execution_count": null,
      "metadata": {
        "id": "qWg4xbf00MZz"
      },
      "outputs": [],
      "source": [
        "#![](./presentation/Capture1.png)\n"
      ]
    },
    {
      "cell_type": "markdown",
      "metadata": {
        "id": "462frsv50MZ2"
      },
      "source": [
        "# Look at data - now to get the target variable distribution"
      ]
    },
    {
      "cell_type": "code",
      "execution_count": null,
      "metadata": {
        "colab": {
          "base_uri": "https://localhost:8080/"
        },
        "id": "gytLI6zK0MZ3",
        "outputId": "9ce4e847-5dfd-4e5c-81c3-cab4ca9ca1f7"
      },
      "outputs": [
        {
          "data": {
            "text/plain": [
              "0    236567\n",
              "1     43433\n",
              "Name: risk_flag, dtype: int64"
            ]
          },
          "execution_count": 10,
          "metadata": {},
          "output_type": "execute_result"
        }
      ],
      "source": [
        "t1[\"risk_flag\"].value_counts()"
      ]
    },
    {
      "cell_type": "code",
      "execution_count": null,
      "metadata": {
        "colab": {
          "base_uri": "https://localhost:8080/"
        },
        "id": "BFKelz7K0MZ4",
        "outputId": "7356cbc7-8c9a-4cce-df33-f4c38dbe4c9a"
      },
      "outputs": [
        {
          "data": {
            "text/plain": [
              "0   0.84488\n",
              "1   0.15512\n",
              "Name: risk_flag, dtype: float64"
            ]
          },
          "execution_count": 11,
          "metadata": {},
          "output_type": "execute_result"
        }
      ],
      "source": [
        "t1[\"risk_flag\"].value_counts(normalize=True)"
      ]
    },
    {
      "cell_type": "markdown",
      "metadata": {
        "id": "KtI1C1dJ0MZ5"
      },
      "source": [
        "# Look at data - listing string and numeric columns"
      ]
    },
    {
      "cell_type": "code",
      "execution_count": null,
      "metadata": {
        "id": "8E7V58uE0MZ6"
      },
      "outputs": [],
      "source": [
        "str_col_name_df = pd.read_csv(\"str_cols.csv\")\n",
        "str_col_name_df.columns = [\"index\",\"col_name\"]\n",
        "str_col_name_list =list(str_col_name_df[\"col_name\"])\n",
        "\n",
        "num_col_name_df = pd.read_csv(\"num_cols.csv\")\n",
        "num_col_name_df.columns = [\"index\",\"col_name\"]\n",
        "num_col_name_df=num_col_name_df.reset_index()\n",
        "num_col_name_list = list(num_col_name_df[\"col_name\"])"
      ]
    },
    {
      "cell_type": "code",
      "execution_count": null,
      "metadata": {
        "colab": {
          "base_uri": "https://localhost:8080/"
        },
        "id": "YvTTjKF80MZ7",
        "outputId": "db13fc0f-5916-4be2-8803-378c63d5741e"
      },
      "outputs": [
        {
          "name": "stdout",
          "output_type": "stream",
          "text": [
            "['profession', 'married', 'house_ownership', 'car_ownership', 'city', 'state']\n",
            "['income', 'age', 'experience', 'current_job_years', 'current_house_years', 'bureau_score']\n"
          ]
        }
      ],
      "source": [
        "print (str_col_name_list)\n",
        "print (num_col_name_list)"
      ]
    },
    {
      "cell_type": "code",
      "execution_count": null,
      "metadata": {
        "id": "8TWi2WUg0MZ7"
      },
      "outputs": [],
      "source": [
        "####Back to Slide"
      ]
    },
    {
      "cell_type": "markdown",
      "metadata": {
        "id": "EIXHKBmB0MZ9"
      },
      "source": [
        "# EDA"
      ]
    },
    {
      "cell_type": "code",
      "execution_count": null,
      "metadata": {
        "colab": {
          "base_uri": "https://localhost:8080/"
        },
        "id": "Tmn_aW4A8egD",
        "outputId": "844a801b-f4f3-4c4d-8b7f-1872d4cd5935"
      },
      "outputs": [
        {
          "name": "stdout",
          "output_type": "stream",
          "text": [
            "Collecting sweetviz\n",
            "  Downloading sweetviz-2.1.3-py3-none-any.whl (15.1 MB)\n",
            "\u001b[K     |████████████████████████████████| 15.1 MB 22.3 MB/s \n",
            "\u001b[?25hRequirement already satisfied: pandas!=1.0.0,!=1.0.1,!=1.0.2,>=0.25.3 in /usr/local/lib/python3.7/dist-packages (from sweetviz) (1.3.5)\n",
            "Requirement already satisfied: jinja2>=2.11.1 in /usr/local/lib/python3.7/dist-packages (from sweetviz) (2.11.3)\n",
            "Requirement already satisfied: scipy>=1.3.2 in /usr/local/lib/python3.7/dist-packages (from sweetviz) (1.4.1)\n",
            "Requirement already satisfied: matplotlib>=3.1.3 in /usr/local/lib/python3.7/dist-packages (from sweetviz) (3.2.2)\n",
            "Requirement already satisfied: tqdm>=4.43.0 in /usr/local/lib/python3.7/dist-packages (from sweetviz) (4.63.0)\n",
            "Requirement already satisfied: importlib-resources>=1.2.0 in /usr/local/lib/python3.7/dist-packages (from sweetviz) (5.4.0)\n",
            "Requirement already satisfied: numpy>=1.16.0 in /usr/local/lib/python3.7/dist-packages (from sweetviz) (1.21.5)\n",
            "Requirement already satisfied: zipp>=3.1.0 in /usr/local/lib/python3.7/dist-packages (from importlib-resources>=1.2.0->sweetviz) (3.7.0)\n",
            "Requirement already satisfied: MarkupSafe>=0.23 in /usr/local/lib/python3.7/dist-packages (from jinja2>=2.11.1->sweetviz) (2.0.1)\n",
            "Requirement already satisfied: kiwisolver>=1.0.1 in /usr/local/lib/python3.7/dist-packages (from matplotlib>=3.1.3->sweetviz) (1.4.0)\n",
            "Requirement already satisfied: cycler>=0.10 in /usr/local/lib/python3.7/dist-packages (from matplotlib>=3.1.3->sweetviz) (0.11.0)\n",
            "Requirement already satisfied: pyparsing!=2.0.4,!=2.1.2,!=2.1.6,>=2.0.1 in /usr/local/lib/python3.7/dist-packages (from matplotlib>=3.1.3->sweetviz) (3.0.7)\n",
            "Requirement already satisfied: python-dateutil>=2.1 in /usr/local/lib/python3.7/dist-packages (from matplotlib>=3.1.3->sweetviz) (2.8.2)\n",
            "Requirement already satisfied: typing-extensions in /usr/local/lib/python3.7/dist-packages (from kiwisolver>=1.0.1->matplotlib>=3.1.3->sweetviz) (3.10.0.2)\n",
            "Requirement already satisfied: pytz>=2017.3 in /usr/local/lib/python3.7/dist-packages (from pandas!=1.0.0,!=1.0.1,!=1.0.2,>=0.25.3->sweetviz) (2018.9)\n",
            "Requirement already satisfied: six>=1.5 in /usr/local/lib/python3.7/dist-packages (from python-dateutil>=2.1->matplotlib>=3.1.3->sweetviz) (1.15.0)\n",
            "Installing collected packages: sweetviz\n",
            "Successfully installed sweetviz-2.1.3\n"
          ]
        }
      ],
      "source": [
        "#installing EDA libraries\n",
        "!pip install sweetviz\n",
        "import sweetviz as sv"
      ]
    },
    {
      "cell_type": "code",
      "execution_count": null,
      "metadata": {
        "colab": {
          "base_uri": "https://localhost:8080/",
          "height": 49,
          "referenced_widgets": [
            "437816df6cba41c2b84fe5cf1c917cf5",
            "771fdcffa91043e999b8f23299260dd8",
            "b92f3390461b494f9cbfa17143cd0186",
            "71aab2858990408c87c4f18eec1f39b3",
            "b169bed1452e4da3ad11337fd582a6ef",
            "a258065d3eff4f8e90217960c8bb1523",
            "e87743775adf440b97e0417646b21629",
            "bb2a6c702b2d42f787d5f96a702c1758",
            "4958ae9f91124692b228e15cd96936fb",
            "60c2cc6dd8c44799940d470ff1af34dc",
            "7361f90121914d6992bf06e71f9f7dab"
          ]
        },
        "id": "u8xmqugn0MZ-",
        "outputId": "5e4c49bf-3c86-446f-f7ba-61092515b8bf"
      },
      "outputs": [
        {
          "data": {
            "application/vnd.jupyter.widget-view+json": {
              "model_id": "437816df6cba41c2b84fe5cf1c917cf5",
              "version_major": 2,
              "version_minor": 0
            },
            "text/plain": [
              "                                             |          | [  0%]   00:00 -> (? left)"
            ]
          },
          "metadata": {},
          "output_type": "display_data"
        }
      ],
      "source": [
        "sweet_report = sv.analyze([t1,\"full_data\"],target_feat=\"risk_flag\")"
      ]
    },
    {
      "cell_type": "code",
      "execution_count": null,
      "metadata": {
        "colab": {
          "base_uri": "https://localhost:8080/"
        },
        "id": "0DtWKNfr0MZ-",
        "outputId": "af4cabf5-6a96-4ed6-b2fe-7a56642a8e59"
      },
      "outputs": [
        {
          "name": "stdout",
          "output_type": "stream",
          "text": [
            "Report sweet_report.html was generated! NOTEBOOK/COLAB USERS: the web browser MAY not pop up, regardless, the report IS saved in your notebook/colab files.\n"
          ]
        }
      ],
      "source": [
        "sweet_report.show_html('sweet_report.html')"
      ]
    },
    {
      "cell_type": "code",
      "execution_count": null,
      "metadata": {
        "id": "s7TkzJZUKO6Z"
      },
      "outputs": [],
      "source": [
        "#5 mins to run the code"
      ]
    },
    {
      "cell_type": "code",
      "execution_count": null,
      "metadata": {
        "colab": {
          "base_uri": "https://localhost:8080/"
        },
        "id": "WmtnE-M6D7kf",
        "outputId": "ef4349ea-7c23-46a9-b1aa-ce4594746db2"
      },
      "outputs": [
        {
          "name": "stderr",
          "output_type": "stream",
          "text": [
            "/usr/local/lib/python3.7/dist-packages/ipykernel_launcher.py:4: FutureWarning: The default value of regex will change from True to False in a future version.\n",
            "  after removing the cwd from sys.path.\n"
          ]
        }
      ],
      "source": [
        "t0 = t1.copy()\n",
        "for i in str_col_name_list:\n",
        "    t1[i] = t1[i].str.lower().str.lstrip().str.rstrip()\n",
        "    t1[i] = t1[i].str.replace(\"[^a-z\\s]+\",\"\")\n"
      ]
    },
    {
      "cell_type": "code",
      "execution_count": null,
      "metadata": {
        "id": "tAyf5Ool0MZ_"
      },
      "outputs": [],
      "source": [
        "####back to slide"
      ]
    },
    {
      "cell_type": "markdown",
      "metadata": {
        "id": "MszhUfbH0MaA"
      },
      "source": [
        "# Train test split\n",
        "### Before we do any preprocessing we want to keep train and test seperate"
      ]
    },
    {
      "cell_type": "code",
      "execution_count": null,
      "metadata": {
        "id": "1jomNJkE91PB"
      },
      "outputs": [],
      "source": [
        "from sklearn.model_selection import train_test_split"
      ]
    },
    {
      "cell_type": "code",
      "execution_count": null,
      "metadata": {
        "id": "PvjrT_150MaA"
      },
      "outputs": [],
      "source": [
        "x_train, x_test, y_train, y_test = train_test_split(t1, t1[\"risk_flag\"], test_size=0.33, random_state=42)"
      ]
    },
    {
      "cell_type": "code",
      "execution_count": null,
      "metadata": {
        "id": "UH-aqvxd0MaB"
      },
      "outputs": [],
      "source": [
        "x_train0 = x_train.reset_index()\n",
        "x_test0 = x_test.reset_index()"
      ]
    },
    {
      "cell_type": "code",
      "execution_count": null,
      "metadata": {
        "colab": {
          "base_uri": "https://localhost:8080/"
        },
        "id": "EbiFI81Z-9oc",
        "outputId": "30950e4b-b184-4861-f8dd-5414733bda08"
      },
      "outputs": [
        {
          "data": {
            "text/plain": [
              "((187600, 16), (92400, 16))"
            ]
          },
          "execution_count": 24,
          "metadata": {},
          "output_type": "execute_result"
        }
      ],
      "source": [
        "x_train0.shape, x_test0.shape"
      ]
    },
    {
      "cell_type": "markdown",
      "metadata": {
        "id": "WDxrEwWRIfSg"
      },
      "source": [
        "#Label encoding string Variables -- baseline categorical approach"
      ]
    },
    {
      "cell_type": "markdown",
      "metadata": {
        "id": "KeceP1sZ9ZWn"
      },
      "source": [
        "# **Data Preprocessing Libraries**"
      ]
    },
    {
      "cell_type": "code",
      "execution_count": null,
      "metadata": {
        "id": "tp0VC-MW9SQS"
      },
      "outputs": [],
      "source": [
        "from sklearn.impute import SimpleImputer\n",
        "from sklearn.preprocessing import OneHotEncoder\n",
        "from sklearn import preprocessing\n",
        "from sklearn.preprocessing import OrdinalEncoder\n"
      ]
    },
    {
      "cell_type": "code",
      "execution_count": null,
      "metadata": {
        "id": "KiDmJn_4SrLn"
      },
      "outputs": [],
      "source": [
        "\n",
        "\n",
        "enc = OrdinalEncoder()\n",
        "\n",
        "x_train_str= pd.DataFrame(enc.fit_transform(x_train0[str_col_name_list]))\n",
        "x_test_str = pd.DataFrame(enc.transform(x_test0[str_col_name_list]))"
      ]
    },
    {
      "cell_type": "code",
      "execution_count": null,
      "metadata": {
        "colab": {
          "base_uri": "https://localhost:8080/",
          "height": 206
        },
        "id": "zCCvQ2ah6m8M",
        "outputId": "f275c15f-365c-4014-fab9-3ff532dcef4b"
      },
      "outputs": [
        {
          "data": {
            "text/html": [
              "\n",
              "  <div id=\"df-e59d58ca-cac9-4433-b20a-0958d121833a\">\n",
              "    <div class=\"colab-df-container\">\n",
              "      <div>\n",
              "<style scoped>\n",
              "    .dataframe tbody tr th:only-of-type {\n",
              "        vertical-align: middle;\n",
              "    }\n",
              "\n",
              "    .dataframe tbody tr th {\n",
              "        vertical-align: top;\n",
              "    }\n",
              "\n",
              "    .dataframe thead th {\n",
              "        text-align: right;\n",
              "    }\n",
              "</style>\n",
              "<table border=\"1\" class=\"dataframe\">\n",
              "  <thead>\n",
              "    <tr style=\"text-align: right;\">\n",
              "      <th></th>\n",
              "      <th>profession</th>\n",
              "      <th>married</th>\n",
              "      <th>house_ownership</th>\n",
              "      <th>car_ownership</th>\n",
              "      <th>city</th>\n",
              "      <th>state</th>\n",
              "    </tr>\n",
              "  </thead>\n",
              "  <tbody>\n",
              "    <tr>\n",
              "      <th>0</th>\n",
              "      <td>23</td>\n",
              "      <td>1</td>\n",
              "      <td>2</td>\n",
              "      <td>0</td>\n",
              "      <td>94</td>\n",
              "      <td>25</td>\n",
              "    </tr>\n",
              "    <tr>\n",
              "      <th>1</th>\n",
              "      <td>8</td>\n",
              "      <td>1</td>\n",
              "      <td>2</td>\n",
              "      <td>0</td>\n",
              "      <td>219</td>\n",
              "      <td>18</td>\n",
              "    </tr>\n",
              "    <tr>\n",
              "      <th>2</th>\n",
              "      <td>41</td>\n",
              "      <td>1</td>\n",
              "      <td>2</td>\n",
              "      <td>0</td>\n",
              "      <td>131</td>\n",
              "      <td>2</td>\n",
              "    </tr>\n",
              "    <tr>\n",
              "      <th>3</th>\n",
              "      <td>17</td>\n",
              "      <td>1</td>\n",
              "      <td>2</td>\n",
              "      <td>0</td>\n",
              "      <td>52</td>\n",
              "      <td>13</td>\n",
              "    </tr>\n",
              "    <tr>\n",
              "      <th>4</th>\n",
              "      <td>47</td>\n",
              "      <td>0</td>\n",
              "      <td>1</td>\n",
              "      <td>1</td>\n",
              "      <td>14</td>\n",
              "      <td>14</td>\n",
              "    </tr>\n",
              "  </tbody>\n",
              "</table>\n",
              "</div>\n",
              "      <button class=\"colab-df-convert\" onclick=\"convertToInteractive('df-e59d58ca-cac9-4433-b20a-0958d121833a')\"\n",
              "              title=\"Convert this dataframe to an interactive table.\"\n",
              "              style=\"display:none;\">\n",
              "        \n",
              "  <svg xmlns=\"http://www.w3.org/2000/svg\" height=\"24px\"viewBox=\"0 0 24 24\"\n",
              "       width=\"24px\">\n",
              "    <path d=\"M0 0h24v24H0V0z\" fill=\"none\"/>\n",
              "    <path d=\"M18.56 5.44l.94 2.06.94-2.06 2.06-.94-2.06-.94-.94-2.06-.94 2.06-2.06.94zm-11 1L8.5 8.5l.94-2.06 2.06-.94-2.06-.94L8.5 2.5l-.94 2.06-2.06.94zm10 10l.94 2.06.94-2.06 2.06-.94-2.06-.94-.94-2.06-.94 2.06-2.06.94z\"/><path d=\"M17.41 7.96l-1.37-1.37c-.4-.4-.92-.59-1.43-.59-.52 0-1.04.2-1.43.59L10.3 9.45l-7.72 7.72c-.78.78-.78 2.05 0 2.83L4 21.41c.39.39.9.59 1.41.59.51 0 1.02-.2 1.41-.59l7.78-7.78 2.81-2.81c.8-.78.8-2.07 0-2.86zM5.41 20L4 18.59l7.72-7.72 1.47 1.35L5.41 20z\"/>\n",
              "  </svg>\n",
              "      </button>\n",
              "      \n",
              "  <style>\n",
              "    .colab-df-container {\n",
              "      display:flex;\n",
              "      flex-wrap:wrap;\n",
              "      gap: 12px;\n",
              "    }\n",
              "\n",
              "    .colab-df-convert {\n",
              "      background-color: #E8F0FE;\n",
              "      border: none;\n",
              "      border-radius: 50%;\n",
              "      cursor: pointer;\n",
              "      display: none;\n",
              "      fill: #1967D2;\n",
              "      height: 32px;\n",
              "      padding: 0 0 0 0;\n",
              "      width: 32px;\n",
              "    }\n",
              "\n",
              "    .colab-df-convert:hover {\n",
              "      background-color: #E2EBFA;\n",
              "      box-shadow: 0px 1px 2px rgba(60, 64, 67, 0.3), 0px 1px 3px 1px rgba(60, 64, 67, 0.15);\n",
              "      fill: #174EA6;\n",
              "    }\n",
              "\n",
              "    [theme=dark] .colab-df-convert {\n",
              "      background-color: #3B4455;\n",
              "      fill: #D2E3FC;\n",
              "    }\n",
              "\n",
              "    [theme=dark] .colab-df-convert:hover {\n",
              "      background-color: #434B5C;\n",
              "      box-shadow: 0px 1px 3px 1px rgba(0, 0, 0, 0.15);\n",
              "      filter: drop-shadow(0px 1px 2px rgba(0, 0, 0, 0.3));\n",
              "      fill: #FFFFFF;\n",
              "    }\n",
              "  </style>\n",
              "\n",
              "      <script>\n",
              "        const buttonEl =\n",
              "          document.querySelector('#df-e59d58ca-cac9-4433-b20a-0958d121833a button.colab-df-convert');\n",
              "        buttonEl.style.display =\n",
              "          google.colab.kernel.accessAllowed ? 'block' : 'none';\n",
              "\n",
              "        async function convertToInteractive(key) {\n",
              "          const element = document.querySelector('#df-e59d58ca-cac9-4433-b20a-0958d121833a');\n",
              "          const dataTable =\n",
              "            await google.colab.kernel.invokeFunction('convertToInteractive',\n",
              "                                                     [key], {});\n",
              "          if (!dataTable) return;\n",
              "\n",
              "          const docLinkHtml = 'Like what you see? Visit the ' +\n",
              "            '<a target=\"_blank\" href=https://colab.research.google.com/notebooks/data_table.ipynb>data table notebook</a>'\n",
              "            + ' to learn more about interactive tables.';\n",
              "          element.innerHTML = '';\n",
              "          dataTable['output_type'] = 'display_data';\n",
              "          await google.colab.output.renderOutput(dataTable, element);\n",
              "          const docLink = document.createElement('div');\n",
              "          docLink.innerHTML = docLinkHtml;\n",
              "          element.appendChild(docLink);\n",
              "        }\n",
              "      </script>\n",
              "    </div>\n",
              "  </div>\n",
              "  "
            ],
            "text/plain": [
              "   profession  married  house_ownership  car_ownership  city  state\n",
              "0          23        1                2              0    94     25\n",
              "1           8        1                2              0   219     18\n",
              "2          41        1                2              0   131      2\n",
              "3          17        1                2              0    52     13\n",
              "4          47        0                1              1    14     14"
            ]
          },
          "execution_count": 27,
          "metadata": {},
          "output_type": "execute_result"
        }
      ],
      "source": [
        "viz1 = x_train_str.head()\n",
        "viz1 = viz1.astype(int)\n",
        "viz1.columns = str_col_name_list\n",
        "viz1"
      ]
    },
    {
      "cell_type": "code",
      "execution_count": null,
      "metadata": {
        "colab": {
          "base_uri": "https://localhost:8080/"
        },
        "id": "8AQThQ4u2Wqh",
        "outputId": "7f8b7e1a-e323-4727-b899-64b743a7e671"
      },
      "outputs": [
        {
          "data": {
            "text/plain": [
              "(187600, 6)"
            ]
          },
          "execution_count": 28,
          "metadata": {},
          "output_type": "execute_result"
        }
      ],
      "source": [
        "x_train_str.shape"
      ]
    },
    {
      "cell_type": "code",
      "execution_count": null,
      "metadata": {
        "colab": {
          "base_uri": "https://localhost:8080/"
        },
        "id": "KwCHBa0H2Kup",
        "outputId": "64c054af-fc21-4674-dc2b-ce58490f8cd9"
      },
      "outputs": [
        {
          "data": {
            "text/plain": [
              "[array(['air traffic controller', 'analyst', 'architect', 'army officer',\n",
              "        'artist', 'aviator', 'biomedical engineer', 'chartered accountant',\n",
              "        'chef', 'chemical engineer', 'civil engineer', 'civil servant',\n",
              "        'comedian', 'computer hardware engineer', 'computer operator',\n",
              "        'consultant', 'dentist', 'design engineer', 'designer', 'drafter',\n",
              "        'economist', 'engineer', 'fashion designer', 'financial analyst',\n",
              "        'firefighter', 'flight attendant', 'geologist', 'graphic designer',\n",
              "        'hotel manager', 'industrial engineer', 'lawyer', 'librarian',\n",
              "        'magistrate', 'mechanical engineer', 'microbiologist', 'official',\n",
              "        'petroleum engineer', 'physician', 'police officer', 'politician',\n",
              "        'psychologist', 'scientist', 'secretary', 'software developer',\n",
              "        'statistician', 'surgeon', 'surveyor', 'technical writer',\n",
              "        'technician', 'technology specialist', 'web designer'],\n",
              "       dtype=object),\n",
              " array(['married', 'single'], dtype=object),\n",
              " array(['norentnoown', 'owned', 'rented'], dtype=object),\n",
              " array(['no', 'yes'], dtype=object),\n",
              " array(['adoni', 'agartala', 'agra', 'ahmedabad', 'ahmednagar', 'aizawl',\n",
              "        'ajmer', 'akola', 'alappuzha', 'aligarh', 'allahabad', 'alwar',\n",
              "        'amaravati', 'ambala', 'ambarnath', 'ambattur', 'amravati',\n",
              "        'amritsar', 'amroha', 'anand', 'anantapur', 'anantapuram', 'arrah',\n",
              "        'asansol', 'aurangabad', 'avadi', 'bahraich', 'ballia', 'bally',\n",
              "        'bangalore', 'baranagar', 'barasat', 'bardhaman', 'bareilly',\n",
              "        'bathinda', 'begusarai', 'belgaum', 'bellary', 'berhampore',\n",
              "        'berhampur', 'bettiah', 'bhagalpur', 'bhalswa jahangir pur',\n",
              "        'bharatpur', 'bhatpara', 'bhavnagar', 'bhilai', 'bhilwara',\n",
              "        'bhimavaram', 'bhind', 'bhiwandi', 'bhiwani', 'bhopal',\n",
              "        'bhubaneswar', 'bhusawal', 'bidar', 'bidhannagar', 'bihar sharif',\n",
              "        'bijapur', 'bikaner', 'bilaspur', 'bokaro', 'bongaigaon',\n",
              "        'bulandshahr', 'burhanpur', 'buxar', 'chandigarhcity',\n",
              "        'chandrapur', 'chapra', 'chennai', 'chinsurah', 'chittoor',\n",
              "        'coimbatore', 'cuttack', 'danapur', 'darbhanga', 'davanagere',\n",
              "        'dehradun', 'dehri', 'delhicity', 'deoghar', 'dewas', 'dhanbad',\n",
              "        'dharmavaram', 'dhule', 'dibrugarh', 'dindigul', 'durg',\n",
              "        'durgapur', 'eluru', 'erode', 'etawah', 'faridabad', 'farrukhabad',\n",
              "        'fatehpur', 'firozabad', 'gandhidham', 'gandhinagar', 'gangtok',\n",
              "        'gaya', 'ghaziabad', 'giridih', 'gopalpur', 'gorakhpur',\n",
              "        'gudivada', 'gulbarga', 'guna', 'guntakal', 'guntur', 'gurgaon',\n",
              "        'guwahati', 'gwalior', 'hajipur', 'haldia', 'hapur', 'haridwar',\n",
              "        'hazaribagh', 'hindupur', 'hospet', 'hosur', 'howrah',\n",
              "        'hublidharwad', 'hyderabad', 'ichalkaranji', 'imphal', 'indore',\n",
              "        'jabalpur', 'jaipur', 'jalandhar', 'jalgaon', 'jalna', 'jamalpur',\n",
              "        'jammu', 'jamnagar', 'jamshedpur', 'jaunpur', 'jehanabad',\n",
              "        'jhansi', 'jodhpur', 'jorhat', 'junagadh', 'kadapa', 'kakinada',\n",
              "        'kalyandombivli', 'kamarhati', 'kanpur', 'karaikudi',\n",
              "        'karawal nagar', 'karimnagar', 'karnal', 'katihar', 'katni',\n",
              "        'kavali', 'khammam', 'khandwa', 'kharagpur', 'khora ghaziabad',\n",
              "        'kirari suleman nagar', 'kishanganj', 'kochi', 'kolhapur',\n",
              "        'kolkata', 'kollam', 'korba', 'kota', 'kottayam', 'kozhikode',\n",
              "        'kulti', 'kumbakonam', 'kurnool', 'latur', 'loni', 'lucknow',\n",
              "        'ludhiana', 'machilipatnam', 'madanapalle', 'madhyamgram',\n",
              "        'madurai', 'mahbubnagar', 'maheshtala', 'malda', 'malegaon',\n",
              "        'mangalore', 'mango', 'mathura', 'mau', 'medininagar', 'meerut',\n",
              "        'mehsana', 'mirabhayandar', 'miryalaguda', 'mirzapur', 'moradabad',\n",
              "        'morbi', 'morena', 'motihari', 'mumbai', 'munger', 'muzaffarnagar',\n",
              "        'muzaffarpur', 'mysore', 'nadiad', 'nagaon', 'nagercoil', 'nagpur',\n",
              "        'naihati', 'nanded', 'nandyal', 'nangloi jat', 'narasaraopet',\n",
              "        'nashik', 'navi mumbai', 'nellore', 'new delhi', 'nizamabad',\n",
              "        'noida', 'north dumdum', 'ongole', 'orai', 'ozhukarai', 'pali',\n",
              "        'pallavaram', 'panchkula', 'panihati', 'panipat', 'panvel',\n",
              "        'parbhani', 'patiala', 'patna', 'phagwara', 'phusro',\n",
              "        'pimprichinchwad', 'pondicherry', 'proddatur', 'pudukkottai',\n",
              "        'pune', 'purnia', 'raebareli', 'raichur', 'raiganj', 'raipur',\n",
              "        'rajahmundry', 'rajkot', 'rajpur sonarpur', 'ramagundam',\n",
              "        'ramgarh', 'rampur', 'ranchi', 'ratlam',\n",
              "        'raurkela industrial township', 'rewa', 'rohtak', 'rourkela',\n",
              "        'sagar', 'saharanpur', 'saharsa', 'salem', 'sambalpur', 'sambhal',\n",
              "        'sanglimiraj  kupwad', 'sasaram', 'satara', 'satna',\n",
              "        'secunderabad', 'serampore', 'shahjahanpur', 'shimla', 'shimoga',\n",
              "        'shivpuri', 'sikar', 'silchar', 'siliguri', 'singrauli', 'sirsa',\n",
              "        'siwan', 'solapur', 'sonipat', 'south dumdum', 'sri ganganagar',\n",
              "        'srikakulam', 'srinagar', 'sultan pur majra', 'surat',\n",
              "        'surendranagar dudhrej', 'suryapet', 'tadepalligudem', 'tadipatri',\n",
              "        'tenali', 'tezpur', 'thane', 'thanjavur', 'thiruvananthapuram',\n",
              "        'thoothukudi', 'thrissur', 'tinsukia', 'tiruchirappalli',\n",
              "        'tirunelveli', 'tirupati', 'tiruppur', 'tiruvottiyur', 'tumkur',\n",
              "        'udaipur', 'udupi', 'ujjain', 'ulhasnagar', 'uluberia', 'unnao',\n",
              "        'vadodara', 'varanasi', 'vasaivirar', 'vellore', 'vijayanagaram',\n",
              "        'vijayawada', 'visakhapatnam', 'warangal', 'yamunanagar'],\n",
              "       dtype=object),\n",
              " array(['andhra pradesh', 'assam', 'bihar', 'chandigarh', 'chhattisgarh',\n",
              "        'delhi', 'gujarat', 'haryana', 'himachal pradesh',\n",
              "        'jammu and kashmir', 'jharkhand', 'karnataka', 'kerala',\n",
              "        'madhya pradesh', 'maharashtra', 'manipur', 'mizoram', 'odisha',\n",
              "        'puducherry', 'punjab', 'rajasthan', 'sikkim', 'tamil nadu',\n",
              "        'telangana', 'tripura', 'uttar pradesh', 'uttarakhand',\n",
              "        'west bengal'], dtype=object)]"
            ]
          },
          "execution_count": 29,
          "metadata": {},
          "output_type": "execute_result"
        }
      ],
      "source": [
        "enc.categories_"
      ]
    },
    {
      "cell_type": "markdown",
      "metadata": {
        "id": "KqFrxFzyJkqU"
      },
      "source": [
        "# Concatenating Numeric and categorical"
      ]
    },
    {
      "cell_type": "code",
      "execution_count": null,
      "metadata": {
        "id": "nZBT8LImOq-F"
      },
      "outputs": [],
      "source": [
        "df_all_train1 = pd.concat([x_train_str,x_train0[num_col_name_list]],axis=1)\n",
        "df_all_test1 = pd.concat([x_test_str,x_test0[num_col_name_list]],axis=1)"
      ]
    },
    {
      "cell_type": "code",
      "execution_count": null,
      "metadata": {
        "id": "5Geu3j5s2H5A"
      },
      "outputs": [],
      "source": [
        "sel_cols = str_col_name_list + num_col_name_list"
      ]
    },
    {
      "cell_type": "code",
      "execution_count": null,
      "metadata": {
        "id": "CUtR7RjKHCcI"
      },
      "outputs": [],
      "source": [
        "##back to presentation"
      ]
    },
    {
      "cell_type": "markdown",
      "metadata": {
        "id": "nHwwAlhUJsbO"
      },
      "source": [
        ""
      ]
    },
    {
      "cell_type": "markdown",
      "metadata": {
        "id": "x_7IZfNVJsn7"
      },
      "source": [
        "# Building Model"
      ]
    },
    {
      "cell_type": "markdown",
      "metadata": {
        "id": "MuV1imyc-L2I"
      },
      "source": [
        "# Feature Selection & Modelling Libraries"
      ]
    },
    {
      "cell_type": "code",
      "execution_count": null,
      "metadata": {
        "id": "EsbOGsk3-CmG"
      },
      "outputs": [],
      "source": [
        "from sklearn.feature_selection import SelectPercentile, f_classif\n",
        "from sklearn.linear_model import LogisticRegression\n",
        "from sklearn.ensemble import RandomForestClassifier\n",
        "from xgboost import XGBClassifier\n",
        "import pickle"
      ]
    },
    {
      "cell_type": "code",
      "execution_count": null,
      "metadata": {
        "id": "ToMEyo4Hds5q"
      },
      "outputs": [],
      "source": [
        "\n",
        "le = preprocessing.LabelEncoder()\n",
        "y_train1 = le.fit_transform(y_train)\n",
        "y_test1 = le.transform(y_test)"
      ]
    },
    {
      "cell_type": "code",
      "execution_count": null,
      "metadata": {
        "colab": {
          "base_uri": "https://localhost:8080/"
        },
        "id": "gX7uD7afOY9w",
        "outputId": "c70fa238-388b-48d6-fe04-e5e56a7852c2"
      },
      "outputs": [
        {
          "data": {
            "text/plain": [
              "XGBClassifier(class_weights=[0.1, 0.9], colsample_bytree=0.3, max_depth=5,\n",
              "              n_estimators=300, scale_pos_weight=6, subsample=0.2)"
            ]
          },
          "execution_count": 35,
          "metadata": {},
          "output_type": "execute_result"
        }
      ],
      "source": [
        "class_weights = [0.1,0.9]\n",
        "\n",
        "\n",
        "\n",
        "xgb = XGBClassifier(n_estimators=300,max_depth= 5,subsample= 0.2,class_weights = class_weights,scale_pos_weight=6,\n",
        "                    colsample_bytree= 0.3)\n",
        "xgb.fit(df_all_train1,y_train1)\n"
      ]
    },
    {
      "cell_type": "code",
      "execution_count": null,
      "metadata": {
        "id": "bO42zKl3HKff"
      },
      "outputs": [],
      "source": [
        "##back to presentation"
      ]
    },
    {
      "cell_type": "markdown",
      "metadata": {
        "id": "dZVqqH2oJyvP"
      },
      "source": [
        "# Measure"
      ]
    },
    {
      "cell_type": "markdown",
      "metadata": {
        "id": "SNVsxb0s-hwO"
      },
      "source": [
        "# Metrics Libraries"
      ]
    },
    {
      "cell_type": "code",
      "execution_count": null,
      "metadata": {
        "id": "UiSTsznx-VoR"
      },
      "outputs": [],
      "source": [
        "from sklearn.metrics import accuracy_score\n",
        "from sklearn.metrics import confusion_matrix,ConfusionMatrixDisplay\n",
        "from sklearn.metrics import roc_curve\n",
        "from sklearn.metrics import auc\n",
        "from sklearn.metrics import f1_score\n",
        "from matplotlib import pyplot\n",
        "import matplotlib.pyplot as plt\n",
        "from sklearn.metrics import average_precision_score\n",
        "from sklearn.metrics import precision_recall_curve"
      ]
    },
    {
      "cell_type": "code",
      "execution_count": null,
      "metadata": {
        "id": "Sacus2BZ0Mag"
      },
      "outputs": [],
      "source": [
        "def cf_mat_conv(cf_mat):\n",
        "    cf_mat1 = pd.DataFrame(cf_mat)\n",
        "\n",
        "    \n",
        "    cols0 = cf_mat1.columns\n",
        "    #print (cols0)\n",
        "    cols1 = []\n",
        "    rows1 = []\n",
        "    for i in cols0:\n",
        "        i1 = \"pred_\" + str(i)\n",
        "        i2 = \"actual_\" + str(i)\n",
        "        cols1.append(i1)\n",
        "        rows1.append(i2)\n",
        "    #print (rows1)\n",
        "    cf_mat1.columns = cols1\n",
        "    cf_mat1[\"vals\"] = rows1\n",
        "    return cf_mat1"
      ]
    },
    {
      "cell_type": "code",
      "execution_count": null,
      "metadata": {
        "id": "68H3oeTsjB4_"
      },
      "outputs": [],
      "source": [
        "def get_metrics1(mod1,test_set,actual1,fg):\n",
        "    mod = eval(mod1)\n",
        "    pred=mod.predict(test_set)\n",
        "    #print(pred)\n",
        "    pred1=mod.predict_proba(test_set)[:,1]\n",
        "    \n",
        "    ac1 = accuracy_score(actual1, pred)\n",
        "    cf_mat1 = confusion_matrix(actual1, pred, labels=None, sample_weight=None)\n",
        "    cf_mat_orig = cf_mat1.copy()\n",
        "\n",
        "    \n",
        "    #print (b_test_b.shape)\n",
        "    cf_mat1 = cf_mat_conv(cf_mat1)\n",
        "\n",
        "    \n",
        "    fpr, tpr, thresholds = roc_curve(actual1, pred1)\n",
        "    auc_pr = average_precision_score(actual1, pred1)\n",
        "    auc1 = auc(fpr, tpr)\n",
        "    f1scr = f1_score(actual1, pred, average='macro')\n",
        "    \n",
        "    if(fg==1):\n",
        "        pyplot.plot([0, 1], [0, 1], linestyle='--')\n",
        "    # plot the roc curve for the model\n",
        "        pyplot.plot(fpr, tpr, marker='.')\n",
        "    # show the plot\n",
        "        pyplot.show()\n",
        "\n",
        "        precision, recall, thresholds = precision_recall_curve(actual1, pred1)\n",
        "        pyplot.plot(precision, recall, marker='.')\n",
        "        pyplot.show()\n",
        "\n",
        "        cmd = ConfusionMatrixDisplay(cf_mat_orig)\n",
        "        cmd.plot(values_format='')\n",
        "\n",
        "    return ac1,cf_mat1,auc1,f1scr,auc_pr\n"
      ]
    },
    {
      "cell_type": "code",
      "execution_count": null,
      "metadata": {
        "colab": {
          "base_uri": "https://localhost:8080/",
          "height": 1000
        },
        "id": "3Ks0Zkf6jEc6",
        "outputId": "48f68ec5-456a-47a2-cf14-9c3e322ab027"
      },
      "outputs": [
        {
          "data": {
            "image/png": "[encoded data removed]",
            "text/plain": [
              "<Figure size 600x400 with 1 Axes>"
            ]
          },
          "metadata": {},
          "output_type": "display_data"
        },
        {
          "data": {
            "image/png": "[encoded data removed]",
            "text/plain": [
              "<Figure size 600x400 with 1 Axes>"
            ]
          },
          "metadata": {},
          "output_type": "display_data"
        },
        {
          "name": "stdout",
          "output_type": "stream",
          "text": [
            "(0.7548593073593074,    pred_0  pred_1      vals\n",
            "0   57635   20471  actual_0\n",
            "1    2180   12114  actual_1, 0.8674575588782634, 0.6762941000896743, 0.5845599228765508)\n"
          ]
        },
        {
          "data": {
            "image/png": "[encoded data removed]",
            "text/plain": [
              "<Figure size 600x400 with 2 Axes>"
            ]
          },
          "metadata": {},
          "output_type": "display_data"
        }
      ],
      "source": [
        "print (get_metrics1(\"xgb\",df_all_test1,y_test1,1))"
      ]
    },
    {
      "cell_type": "code",
      "execution_count": null,
      "metadata": {
        "id": "msi_CJvhHUj3"
      },
      "outputs": [],
      "source": [
        "##back to presentation"
      ]
    },
    {
      "cell_type": "markdown",
      "metadata": {
        "id": "34WwWTfDJ4GM"
      },
      "source": [
        "# Explaining the Model"
      ]
    },
    {
      "cell_type": "code",
      "execution_count": null,
      "metadata": {
        "colab": {
          "base_uri": "https://localhost:8080/"
        },
        "id": "Pr0woOgC-szX",
        "outputId": "b2c5c4c2-ecb2-408f-9b4e-836ab1cab47d"
      },
      "outputs": [
        {
          "name": "stdout",
          "output_type": "stream",
          "text": [
            "Collecting shap\n",
            "  Downloading shap-0.40.0-cp37-cp37m-manylinux2010_x86_64.whl (564 kB)\n",
            "\u001b[?25l\r\u001b[K     |▋                               | 10 kB 19.3 MB/s eta 0:00:01\r\u001b[K     |█▏                              | 20 kB 25.5 MB/s eta 0:00:01\r\u001b[K     |█▊                              | 30 kB 29.7 MB/s eta 0:00:01\r\u001b[K     |██▎                             | 40 kB 31.4 MB/s eta 0:00:01\r\u001b[K     |███                             | 51 kB 33.7 MB/s eta 0:00:01\r\u001b[K     |███▌                            | 61 kB 37.4 MB/s eta 0:00:01\r\u001b[K     |████                            | 71 kB 27.3 MB/s eta 0:00:01\r\u001b[K     |████▋                           | 81 kB 24.3 MB/s eta 0:00:01\r\u001b[K     |█████▏                          | 92 kB 25.8 MB/s eta 0:00:01\r\u001b[K     |█████▉                          | 102 kB 27.6 MB/s eta 0:00:01\r\u001b[K     |██████▍                         | 112 kB 27.6 MB/s eta 0:00:01\r\u001b[K     |███████                         | 122 kB 27.6 MB/s eta 0:00:01\r\u001b[K     |███████▌                        | 133 kB 27.6 MB/s eta 0:00:01\r\u001b[K     |████████▏                       | 143 kB 27.6 MB/s eta 0:00:01\r\u001b[K     |████████▊                       | 153 kB 27.6 MB/s eta 0:00:01\r\u001b[K     |█████████▎                      | 163 kB 27.6 MB/s eta 0:00:01\r\u001b[K     |█████████▉                      | 174 kB 27.6 MB/s eta 0:00:01\r\u001b[K     |██████████▍                     | 184 kB 27.6 MB/s eta 0:00:01\r\u001b[K     |███████████                     | 194 kB 27.6 MB/s eta 0:00:01\r\u001b[K     |███████████▋                    | 204 kB 27.6 MB/s eta 0:00:01\r\u001b[K     |████████████▏                   | 215 kB 27.6 MB/s eta 0:00:01\r\u001b[K     |████████████▊                   | 225 kB 27.6 MB/s eta 0:00:01\r\u001b[K     |█████████████▍                  | 235 kB 27.6 MB/s eta 0:00:01\r\u001b[K     |██████████████                  | 245 kB 27.6 MB/s eta 0:00:01\r\u001b[K     |██████████████▌                 | 256 kB 27.6 MB/s eta 0:00:01\r\u001b[K     |███████████████                 | 266 kB 27.6 MB/s eta 0:00:01\r\u001b[K     |███████████████▋                | 276 kB 27.6 MB/s eta 0:00:01\r\u001b[K     |████████████████▎               | 286 kB 27.6 MB/s eta 0:00:01\r\u001b[K     |████████████████▉               | 296 kB 27.6 MB/s eta 0:00:01\r\u001b[K     |█████████████████▍              | 307 kB 27.6 MB/s eta 0:00:01\r\u001b[K     |██████████████████              | 317 kB 27.6 MB/s eta 0:00:01\r\u001b[K     |██████████████████▋             | 327 kB 27.6 MB/s eta 0:00:01\r\u001b[K     |███████████████████▏            | 337 kB 27.6 MB/s eta 0:00:01\r\u001b[K     |███████████████████▊            | 348 kB 27.6 MB/s eta 0:00:01\r\u001b[K     |████████████████████▎           | 358 kB 27.6 MB/s eta 0:00:01\r\u001b[K     |████████████████████▉           | 368 kB 27.6 MB/s eta 0:00:01\r\u001b[K     |█████████████████████▌          | 378 kB 27.6 MB/s eta 0:00:01\r\u001b[K     |██████████████████████          | 389 kB 27.6 MB/s eta 0:00:01\r\u001b[K     |██████████████████████▋         | 399 kB 27.6 MB/s eta 0:00:01\r\u001b[K     |███████████████████████▏        | 409 kB 27.6 MB/s eta 0:00:01\r\u001b[K     |███████████████████████▉        | 419 kB 27.6 MB/s eta 0:00:01\r\u001b[K     |████████████████████████▍       | 430 kB 27.6 MB/s eta 0:00:01\r\u001b[K     |█████████████████████████       | 440 kB 27.6 MB/s eta 0:00:01\r\u001b[K     |█████████████████████████▌      | 450 kB 27.6 MB/s eta 0:00:01\r\u001b[K     |██████████████████████████      | 460 kB 27.6 MB/s eta 0:00:01\r\u001b[K     |██████████████████████████▊     | 471 kB 27.6 MB/s eta 0:00:01\r\u001b[K     |███████████████████████████▎    | 481 kB 27.6 MB/s eta 0:00:01\r\u001b[K     |███████████████████████████▉    | 491 kB 27.6 MB/s eta 0:00:01\r\u001b[K     |████████████████████████████▍   | 501 kB 27.6 MB/s eta 0:00:01\r\u001b[K     |█████████████████████████████   | 512 kB 27.6 MB/s eta 0:00:01\r\u001b[K     |█████████████████████████████▋  | 522 kB 27.6 MB/s eta 0:00:01\r\u001b[K     |██████████████████████████████▏ | 532 kB 27.6 MB/s eta 0:00:01\r\u001b[K     |██████████████████████████████▊ | 542 kB 27.6 MB/s eta 0:00:01\r\u001b[K     |███████████████████████████████▎| 552 kB 27.6 MB/s eta 0:00:01\r\u001b[K     |████████████████████████████████| 563 kB 27.6 MB/s eta 0:00:01\r\u001b[K     |████████████████████████████████| 564 kB 27.6 MB/s \n",
            "\u001b[?25hRequirement already satisfied: scikit-learn in /usr/local/lib/python3.7/dist-packages (from shap) (1.0.2)\n",
            "Requirement already satisfied: cloudpickle in /usr/local/lib/python3.7/dist-packages (from shap) (1.3.0)\n",
            "Collecting slicer==0.0.7\n",
            "  Downloading slicer-0.0.7-py3-none-any.whl (14 kB)\n",
            "Requirement already satisfied: scipy in /usr/local/lib/python3.7/dist-packages (from shap) (1.4.1)\n",
            "Requirement already satisfied: numpy in /usr/local/lib/python3.7/dist-packages (from shap) (1.21.5)\n",
            "Requirement already satisfied: tqdm>4.25.0 in /usr/local/lib/python3.7/dist-packages (from shap) (4.63.0)\n",
            "Requirement already satisfied: pandas in /usr/local/lib/python3.7/dist-packages (from shap) (1.3.5)\n",
            "Requirement already satisfied: packaging>20.9 in /usr/local/lib/python3.7/dist-packages (from shap) (21.3)\n",
            "Requirement already satisfied: numba in /usr/local/lib/python3.7/dist-packages (from shap) (0.51.2)\n",
            "Requirement already satisfied: pyparsing!=3.0.5,>=2.0.2 in /usr/local/lib/python3.7/dist-packages (from packaging>20.9->shap) (3.0.7)\n",
            "Requirement already satisfied: setuptools in /usr/local/lib/python3.7/dist-packages (from numba->shap) (57.4.0)\n",
            "Requirement already satisfied: llvmlite<0.35,>=0.34.0.dev0 in /usr/local/lib/python3.7/dist-packages (from numba->shap) (0.34.0)\n",
            "Requirement already satisfied: pytz>=2017.3 in /usr/local/lib/python3.7/dist-packages (from pandas->shap) (2018.9)\n",
            "Requirement already satisfied: python-dateutil>=2.7.3 in /usr/local/lib/python3.7/dist-packages (from pandas->shap) (2.8.2)\n",
            "Requirement already satisfied: six>=1.5 in /usr/local/lib/python3.7/dist-packages (from python-dateutil>=2.7.3->pandas->shap) (1.15.0)\n",
            "Requirement already satisfied: threadpoolctl>=2.0.0 in /usr/local/lib/python3.7/dist-packages (from scikit-learn->shap) (3.1.0)\n",
            "Requirement already satisfied: joblib>=0.11 in /usr/local/lib/python3.7/dist-packages (from scikit-learn->shap) (1.1.0)\n",
            "Installing collected packages: slicer, shap\n",
            "Successfully installed shap-0.40.0 slicer-0.0.7\n"
          ]
        }
      ],
      "source": [
        "!pip install shap\n",
        "import shap"
      ]
    },
    {
      "cell_type": "code",
      "execution_count": null,
      "metadata": {
        "colab": {
          "background_save": true
        },
        "id": "iNDd8RgWyDAj"
      },
      "outputs": [],
      "source": [
        "df1_tr = pd.DataFrame(df_all_train1)\n",
        "df1_tr.columns =sel_cols\n",
        "explainer = shap.TreeExplainer(xgb)\n",
        "shap_values = explainer.shap_values(df1_tr)\n",
        "\n"
      ]
    },
    {
      "cell_type": "code",
      "execution_count": null,
      "metadata": {
        "colab": {
          "background_save": true
        },
        "id": "R3QgMljN4er4",
        "outputId": "cd16e921-5662-4a87-e46a-89e6255ed646"
      },
      "outputs": [
        {
          "data": {
            "image/png": "[encoded data removed]",
            "text/plain": [
              "<Figure size 800x630 with 1 Axes>"
            ]
          },
          "metadata": {},
          "output_type": "display_data"
        }
      ],
      "source": [
        "shap.summary_plot(shap_values, df1_tr, plot_type=\"bar\")"
      ]
    },
    {
      "cell_type": "markdown",
      "metadata": {
        "id": "UvY0WP5SJ98n"
      },
      "source": [
        "# Homework Starts From Here"
      ]
    },
    {
      "cell_type": "markdown",
      "metadata": {
        "id": "l5SuBCLcKF2y"
      },
      "source": [
        "## One hot encoding"
      ]
    },
    {
      "cell_type": "code",
      "execution_count": null,
      "metadata": {
        "colab": {
          "background_save": true
        },
        "id": "rhKdxyNG5WwN",
        "outputId": "fc3466a8-14a4-42e4-be67-577f9318db85"
      },
      "outputs": [
        {
          "ename": "NameError",
          "evalue": "ignored",
          "output_type": "error",
          "traceback": [
            "\u001b[0;31m---------------------------------------------------------------------------\u001b[0m",
            "\u001b[0;31mNameError\u001b[0m                                 Traceback (most recent call last)",
            "\u001b[0;32m<ipython-input-45-01cc2c0b40ca>\u001b[0m in \u001b[0;36m<module>\u001b[0;34m()\u001b[0m\n\u001b[1;32m      4\u001b[0m \u001b[0;31m#use fit_transform method of onehotencoder to one hot encode categorical columns of x_train0 and x_test0\u001b[0m\u001b[0;34m\u001b[0m\u001b[0;34m\u001b[0m\u001b[0;34m\u001b[0m\u001b[0m\n\u001b[1;32m      5\u001b[0m \u001b[0;34m\u001b[0m\u001b[0m\n\u001b[0;32m----> 6\u001b[0;31m \u001b[0mdf_one_hot_tr\u001b[0m \u001b[0;34m=\u001b[0m \u001b[0mpd\u001b[0m\u001b[0;34m.\u001b[0m\u001b[0mDataFrame\u001b[0m\u001b[0;34m(\u001b[0m\u001b[0m_____\u001b[0m\u001b[0;34m.\u001b[0m\u001b[0mfit_transform\u001b[0m\u001b[0;34m(\u001b[0m\u001b[0mnp\u001b[0m\u001b[0;34m.\u001b[0m\u001b[0marray\u001b[0m\u001b[0;34m(\u001b[0m\u001b[0m_____\u001b[0m\u001b[0;34m[\u001b[0m\u001b[0mstr_col_name_list\u001b[0m\u001b[0;34m]\u001b[0m\u001b[0;34m)\u001b[0m\u001b[0;34m)\u001b[0m\u001b[0;34m.\u001b[0m\u001b[0mtodense\u001b[0m\u001b[0;34m(\u001b[0m\u001b[0;34m)\u001b[0m\u001b[0;34m)\u001b[0m\u001b[0;34m\u001b[0m\u001b[0;34m\u001b[0m\u001b[0m\n\u001b[0m\u001b[1;32m      7\u001b[0m \u001b[0mdf_one_hot_te\u001b[0m \u001b[0;34m=\u001b[0m \u001b[0mpd\u001b[0m\u001b[0;34m.\u001b[0m\u001b[0mDataFrame\u001b[0m\u001b[0;34m(\u001b[0m\u001b[0menc\u001b[0m\u001b[0;34m.\u001b[0m\u001b[0mtransform\u001b[0m\u001b[0;34m(\u001b[0m\u001b[0mnp\u001b[0m\u001b[0;34m.\u001b[0m\u001b[0marray\u001b[0m\u001b[0;34m(\u001b[0m\u001b[0mx_test0\u001b[0m\u001b[0;34m[\u001b[0m\u001b[0m_________\u001b[0m\u001b[0;34m]\u001b[0m\u001b[0;34m)\u001b[0m\u001b[0;34m)\u001b[0m\u001b[0;34m.\u001b[0m\u001b[0mtodense\u001b[0m\u001b[0;34m(\u001b[0m\u001b[0;34m)\u001b[0m\u001b[0;34m)\u001b[0m\u001b[0;34m\u001b[0m\u001b[0;34m\u001b[0m\u001b[0m\n\u001b[1;32m      8\u001b[0m \u001b[0mcolnames\u001b[0m \u001b[0;34m=\u001b[0m \u001b[0menc\u001b[0m\u001b[0;34m.\u001b[0m\u001b[0mget_feature_names_out\u001b[0m\u001b[0;34m(\u001b[0m\u001b[0;34m)\u001b[0m\u001b[0;34m\u001b[0m\u001b[0;34m\u001b[0m\u001b[0m\n",
            "\u001b[0;31mNameError\u001b[0m: name '_____' is not defined"
          ]
        }
      ],
      "source": [
        "#OneHotEncoding the data\n",
        "enc = OneHotEncoder(handle_unknown='ignore')\n",
        "\n",
        "#use fit_transform method of onehotencoder to one hot encode categorical columns of x_train0 and x_test0\n",
        "\n",
        "df_one_hot_tr = pd.DataFrame(_____.fit_transform(np.array(_____[str_col_name_list])).todense())\n",
        "df_one_hot_te = pd.DataFrame(enc.transform(np.array(x_test0[_________])).todense())\n",
        "colnames = enc.get_feature_names_out()\n",
        "\n",
        "#assign column names of one hot dataframes to colnames\n",
        "df_one_hot_tr.columns = ________\n",
        "df_one_hot_te.columns = ________"
      ]
    },
    {
      "cell_type": "code",
      "execution_count": null,
      "metadata": {
        "colab": {
          "background_save": true
        },
        "id": "LWq57g9r7Ty5"
      },
      "outputs": [],
      "source": [
        "# take a look at the one hot coded training dataframe using .head()\n",
        "df_one_hot_tr.______()"
      ]
    },
    {
      "cell_type": "code",
      "execution_count": null,
      "metadata": {
        "colab": {
          "background_save": true
        },
        "id": "JUPZ9qNu59wC"
      },
      "outputs": [],
      "source": [
        "# concatenate one hot encoded colmns to the numerical columns of the train and test data [num_col_name_list] along axis =1\n",
        "df_all_one_hot_train1 = pd.concat([df_one_hot_tr,x_train0[______________]],axis=__)\n",
        "df_all_one_hot_test1 = pd.concat([df_one_hot_te,x_test0[______________]],axis=___)"
      ]
    },
    {
      "cell_type": "code",
      "execution_count": null,
      "metadata": {
        "colab": {
          "background_save": true
        },
        "id": "JwHRRBcm6MCT"
      },
      "outputs": [],
      "source": [
        "#make a list of all selected columns adding list of colnames and num_col_name_list\n",
        "sel_cols = list(colnames) + ___________"
      ]
    },
    {
      "cell_type": "code",
      "execution_count": null,
      "metadata": {
        "colab": {
          "background_save": true
        },
        "id": "xQAOrlx1_2O4"
      },
      "outputs": [],
      "source": [
        "class_weights = [0.1,0.9]\n",
        "\n",
        "\n",
        "#Create model instance of XGBClassifier with n_estimators =100, max_depth =5, subsample =0.2, \n",
        "# class_weights as class_weights we created above, scale_pos_weight =6, colsample_bytree = 0.3\n",
        "xgb_ohe = XGBClassifier(n_estimators=____,max_depth= ___,subsample= ____,class_weights = class_weights,scale_pos_weight=___,\n",
        "                    colsample_bytree= ___,n_jobs=6)\n",
        "# for the model on train data(df_all_one_hot_train1 and y_train1)\n",
        "xgb_ohe.fit(________________,______)\n"
      ]
    },
    {
      "cell_type": "code",
      "execution_count": null,
      "metadata": {
        "colab": {
          "background_save": true
        },
        "id": "GI9q0er6_8yd"
      },
      "outputs": [],
      "source": [
        "print (get_metrics1(\"xgb_ohe\",df_all_one_hot_test1,y_test1,1))"
      ]
    },
    {
      "cell_type": "code",
      "execution_count": null,
      "metadata": {
        "colab": {
          "background_save": true
        },
        "id": "XKs14cmFCFss"
      },
      "outputs": [],
      "source": [
        "df1_tr_ohe = pd.DataFrame(df_all_one_hot_train1)\n",
        "df1_tr_ohe.columns =sel_cols\n",
        "\n",
        "#Lets do some XAI using SHAP input the model xgb_ohe in shap.treeexplainer\n",
        "explainer_ohe = shap.TreeExplainer(_____)\n",
        "#input the training dataframe df1_tr_ohe \n",
        "shap_values_ohe = explainer_ohe.shap_values(_______)"
      ]
    },
    {
      "cell_type": "code",
      "execution_count": null,
      "metadata": {
        "colab": {
          "background_save": true
        },
        "id": "pW7i_60SCbJb"
      },
      "outputs": [],
      "source": [
        "#Lets make a summary plot of shap_values_ohe, df1_tr_ohe with a \"bar\" plot\n",
        "shap.summary_plot(____________, _________, plot_type=\"___\")"
      ]
    },
    {
      "cell_type": "markdown",
      "metadata": {
        "id": "alqz2SS9KQ6x"
      },
      "source": [
        "## Median Impute of Missing Values"
      ]
    },
    {
      "cell_type": "code",
      "execution_count": null,
      "metadata": {
        "colab": {
          "background_save": true
        },
        "id": "5ADEajc9CiAo"
      },
      "outputs": [],
      "source": [
        "#### median impute of missing values"
      ]
    },
    {
      "cell_type": "code",
      "execution_count": null,
      "metadata": {
        "colab": {
          "background_save": true
        },
        "id": "vN3WrloODoY-"
      },
      "outputs": [],
      "source": [
        "#create simpleimputer object for replacing nan values with median [missing_values=np.nan, strategy='median']\n",
        "imp_median = SimpleImputer(missing_values=______, strategy='_____')\n",
        "#we can impute numerical columns by this Simple Imputer. So pass numerical columns of x_train0[num_col_name_list]\n",
        "imp_median.fit(x_train0[____________])\n",
        "#transform both test and train data using imp_mean \n",
        "x_train_num = pd.DataFrame(imp_median.transform(x_train0[_________]))\n",
        "x_test_num = pd.DataFrame(imp_median.transform(x_test0[____________]))\n",
        "\n",
        "x_train_num.columns = num_col_name_list\n",
        "x_test_num.columns = num_col_name_list"
      ]
    },
    {
      "cell_type": "code",
      "execution_count": null,
      "metadata": {
        "colab": {
          "background_save": true
        },
        "id": "hudqsuYiDwo-"
      },
      "outputs": [],
      "source": [
        "#concatenate the string columns and the numerical columns of Train and test data along axis =1\n",
        "df_all_imp_train1 = pd.concat([x_train_str,_______],axis=___)\n",
        "df_all_imp_test1 = pd.concat([x_test_str,________],axis=1)"
      ]
    },
    {
      "cell_type": "code",
      "execution_count": null,
      "metadata": {
        "colab": {
          "background_save": true
        },
        "id": "ocB2e4iWt4KM"
      },
      "outputs": [],
      "source": [
        "class_weights = [0.1,0.9]\n",
        "\n",
        "#Create model instance of XGBClassifier with n_estimators =300, max_depth =5, subsample =0.2, \n",
        "# class_weights as class_weights we created above, scale_pos_weight =6, colsample_bytree = 0.3\n",
        "\n",
        "xgb_imp = XGBClassifier(n_estimators=300,max_depth= 5,subsample= 0.2,class_weights = class_weights,scale_pos_weight=6,\n",
        "                    colsample_bytree= 0.3)\n",
        "xgb_imp.fit(df_all_imp_train1,y_train1)"
      ]
    },
    {
      "cell_type": "code",
      "execution_count": null,
      "metadata": {
        "colab": {
          "background_save": true
        },
        "id": "cpoVcvWrvHi4"
      },
      "outputs": [],
      "source": [
        "print (get_metrics1(\"xgb_imp\",df_all_imp_test1,y_test1,1))"
      ]
    },
    {
      "cell_type": "markdown",
      "metadata": {
        "id": "ReR5NKImKZzN"
      },
      "source": [
        "## Putting it all together"
      ]
    },
    {
      "cell_type": "code",
      "execution_count": null,
      "metadata": {
        "colab": {
          "background_save": true
        },
        "id": "bZBdVpuayC4P"
      },
      "outputs": [],
      "source": [
        "#Making a dataframe with the metrics : accuracy, auc, f1, auc_pr for the different models we created using different data sets\n",
        "\n",
        "#make a list of datasets created : df_all_test1,df_all_one_hot_test1,df_all_imp_test1\n",
        "df_datasets = [________,________,___________]\n",
        "\n",
        "# loop over the models we created respectively in the list above: \"xgb\",\"xgb_ohe\",\"xgb_imp\"\n",
        "\n",
        "for num,i in enumerate([\"___\",\"_______\",\"___________\"]):\n",
        "    print (num)\n",
        "    ac1,cf_mat1,auc1,f1scr,auc_pr = get_metrics1(i,df_datasets[num],y_test1,0)\n",
        "    \n",
        "    # make a data frame of selected metrics (ac1,auc1,f1scr,auc_pr)\n",
        "    df_met = pd.DataFrame([(__,__,___,____)])\n",
        "    #name the columns of data frame\n",
        "    df_met.columns = [\"accuracy\",\"auc\",\"f1\",\"auc_pr\"]\n",
        "    df_met[\"model\"] = i\n",
        "    \n",
        "    if(num==0):  \n",
        "        df_met_all = df_met\n",
        "    else:\n",
        "        #concatenate the data frames to create one data frame\n",
        "        df_met_all = pd.concat([df_met,df_met_all],axis=0)"
      ]
    },
    {
      "cell_type": "code",
      "execution_count": null,
      "metadata": {
        "colab": {
          "background_save": true
        },
        "id": "pUHrriSz6U9L"
      },
      "outputs": [],
      "source": [
        "#visualise the metrics data frame using .head()\n",
        "df_met_all._____()"
      ]
    },
    {
      "cell_type": "code",
      "execution_count": null,
      "metadata": {
        "colab": {
          "background_save": true
        },
        "id": "Drw4CBFkHeoA"
      },
      "outputs": [],
      "source": [
        "##back to presentation"
      ]
    }
  ],
  "metadata": {
    "colab": {
      "collapsed_sections": [],
      "name": "Classification_main_&_homework.ipynb",
      "provenance": []
    },
    "kernelspec": {
      "display_name": "Python 3",
      "language": "python",
      "name": "python3"
    },
    "language_info": {
      "codemirror_mode": {
        "name": "ipython",
        "version": 3
      },
      "file_extension": ".py",
      "mimetype": "text/x-python",
      "name": "python",
      "nbconvert_exporter": "python",
      "pygments_lexer": "ipython3",
      "version": "3.6.5"
    },
    "widgets": {
      "application/vnd.jupyter.widget-state+json": {
        "437816df6cba41c2b84fe5cf1c917cf5": {
          "model_module": "@jupyter-widgets/controls",
          "model_module_version": "1.5.0",
          "model_name": "HBoxModel",
          "state": {
            "_dom_classes": [],
            "_model_module": "@jupyter-widgets/controls",
            "_model_module_version": "1.5.0",
            "_model_name": "HBoxModel",
            "_view_count": null,
            "_view_module": "@jupyter-widgets/controls",
            "_view_module_version": "1.5.0",
            "_view_name": "HBoxView",
            "box_style": "",
            "children": [
              "IPY_MODEL_771fdcffa91043e999b8f23299260dd8",
              "IPY_MODEL_b92f3390461b494f9cbfa17143cd0186",
              "IPY_MODEL_71aab2858990408c87c4f18eec1f39b3"
            ],
            "layout": "IPY_MODEL_b169bed1452e4da3ad11337fd582a6ef"
          }
        },
        "4958ae9f91124692b228e15cd96936fb": {
          "model_module": "@jupyter-widgets/controls",
          "model_module_version": "1.5.0",
          "model_name": "ProgressStyleModel",
          "state": {
            "_model_module": "@jupyter-widgets/controls",
            "_model_module_version": "1.5.0",
            "_model_name": "ProgressStyleModel",
            "_view_count": null,
            "_view_module": "@jupyter-widgets/base",
            "_view_module_version": "1.2.0",
            "_view_name": "StyleView",
            "bar_color": null,
            "description_width": ""
          }
        },
        "60c2cc6dd8c44799940d470ff1af34dc": {
          "model_module": "@jupyter-widgets/base",
          "model_module_version": "1.2.0",
          "model_name": "LayoutModel",
          "state": {
            "_model_module": "@jupyter-widgets/base",
            "_model_module_version": "1.2.0",
            "_model_name": "LayoutModel",
            "_view_count": null,
            "_view_module": "@jupyter-widgets/base",
            "_view_module_version": "1.2.0",
            "_view_name": "LayoutView",
            "align_content": null,
            "align_items": null,
            "align_self": null,
            "border": null,
            "bottom": null,
            "display": null,
            "flex": null,
            "flex_flow": null,
            "grid_area": null,
            "grid_auto_columns": null,
            "grid_auto_flow": null,
            "grid_auto_rows": null,
            "grid_column": null,
            "grid_gap": null,
            "grid_row": null,
            "grid_template_areas": null,
            "grid_template_columns": null,
            "grid_template_rows": null,
            "height": null,
            "justify_content": null,
            "justify_items": null,
            "left": null,
            "margin": null,
            "max_height": null,
            "max_width": null,
            "min_height": null,
            "min_width": null,
            "object_fit": null,
            "object_position": null,
            "order": null,
            "overflow": null,
            "overflow_x": null,
            "overflow_y": null,
            "padding": null,
            "right": null,
            "top": null,
            "visibility": null,
            "width": null
          }
        },
        "71aab2858990408c87c4f18eec1f39b3": {
          "model_module": "@jupyter-widgets/controls",
          "model_module_version": "1.5.0",
          "model_name": "HTMLModel",
          "state": {
            "_dom_classes": [],
            "_model_module": "@jupyter-widgets/controls",
            "_model_module_version": "1.5.0",
            "_model_name": "HTMLModel",
            "_view_count": null,
            "_view_module": "@jupyter-widgets/controls",
            "_view_module_version": "1.5.0",
            "_view_name": "HTMLView",
            "description": "",
            "description_tooltip": null,
            "layout": "IPY_MODEL_60c2cc6dd8c44799940d470ff1af34dc",
            "placeholder": "​",
            "style": "IPY_MODEL_7361f90121914d6992bf06e71f9f7dab",
            "value": " [100%]   00:00 -&gt; (00:00 left)"
          }
        },
        "7361f90121914d6992bf06e71f9f7dab": {
          "model_module": "@jupyter-widgets/controls",
          "model_module_version": "1.5.0",
          "model_name": "DescriptionStyleModel",
          "state": {
            "_model_module": "@jupyter-widgets/controls",
            "_model_module_version": "1.5.0",
            "_model_name": "DescriptionStyleModel",
            "_view_count": null,
            "_view_module": "@jupyter-widgets/base",
            "_view_module_version": "1.2.0",
            "_view_name": "StyleView",
            "description_width": ""
          }
        },
        "771fdcffa91043e999b8f23299260dd8": {
          "model_module": "@jupyter-widgets/controls",
          "model_module_version": "1.5.0",
          "model_name": "HTMLModel",
          "state": {
            "_dom_classes": [],
            "_model_module": "@jupyter-widgets/controls",
            "_model_module_version": "1.5.0",
            "_model_name": "HTMLModel",
            "_view_count": null,
            "_view_module": "@jupyter-widgets/controls",
            "_view_module_version": "1.5.0",
            "_view_name": "HTMLView",
            "description": "",
            "description_tooltip": null,
            "layout": "IPY_MODEL_a258065d3eff4f8e90217960c8bb1523",
            "placeholder": "​",
            "style": "IPY_MODEL_e87743775adf440b97e0417646b21629",
            "value": "Done! Use &#x27;show&#x27; commands to display/save.   "
          }
        },
        "a258065d3eff4f8e90217960c8bb1523": {
          "model_module": "@jupyter-widgets/base",
          "model_module_version": "1.2.0",
          "model_name": "LayoutModel",
          "state": {
            "_model_module": "@jupyter-widgets/base",
            "_model_module_version": "1.2.0",
            "_model_name": "LayoutModel",
            "_view_count": null,
            "_view_module": "@jupyter-widgets/base",
            "_view_module_version": "1.2.0",
            "_view_name": "LayoutView",
            "align_content": null,
            "align_items": null,
            "align_self": null,
            "border": null,
            "bottom": null,
            "display": null,
            "flex": null,
            "flex_flow": null,
            "grid_area": null,
            "grid_auto_columns": null,
            "grid_auto_flow": null,
            "grid_auto_rows": null,
            "grid_column": null,
            "grid_gap": null,
            "grid_row": null,
            "grid_template_areas": null,
            "grid_template_columns": null,
            "grid_template_rows": null,
            "height": null,
            "justify_content": null,
            "justify_items": null,
            "left": null,
            "margin": null,
            "max_height": null,
            "max_width": null,
            "min_height": null,
            "min_width": null,
            "object_fit": null,
            "object_position": null,
            "order": null,
            "overflow": null,
            "overflow_x": null,
            "overflow_y": null,
            "padding": null,
            "right": null,
            "top": null,
            "visibility": null,
            "width": null
          }
        },
        "b169bed1452e4da3ad11337fd582a6ef": {
          "model_module": "@jupyter-widgets/base",
          "model_module_version": "1.2.0",
          "model_name": "LayoutModel",
          "state": {
            "_model_module": "@jupyter-widgets/base",
            "_model_module_version": "1.2.0",
            "_model_name": "LayoutModel",
            "_view_count": null,
            "_view_module": "@jupyter-widgets/base",
            "_view_module_version": "1.2.0",
            "_view_name": "LayoutView",
            "align_content": null,
            "align_items": null,
            "align_self": null,
            "border": null,
            "bottom": null,
            "display": "inline-flex",
            "flex": null,
            "flex_flow": "row wrap",
            "grid_area": null,
            "grid_auto_columns": null,
            "grid_auto_flow": null,
            "grid_auto_rows": null,
            "grid_column": null,
            "grid_gap": null,
            "grid_row": null,
            "grid_template_areas": null,
            "grid_template_columns": null,
            "grid_template_rows": null,
            "height": null,
            "justify_content": null,
            "justify_items": null,
            "left": null,
            "margin": null,
            "max_height": null,
            "max_width": null,
            "min_height": null,
            "min_width": null,
            "object_fit": null,
            "object_position": null,
            "order": null,
            "overflow": null,
            "overflow_x": null,
            "overflow_y": null,
            "padding": null,
            "right": null,
            "top": null,
            "visibility": null,
            "width": "100%"
          }
        },
        "b92f3390461b494f9cbfa17143cd0186": {
          "model_module": "@jupyter-widgets/controls",
          "model_module_version": "1.5.0",
          "model_name": "FloatProgressModel",
          "state": {
            "_dom_classes": [],
            "_model_module": "@jupyter-widgets/controls",
            "_model_module_version": "1.5.0",
            "_model_name": "FloatProgressModel",
            "_view_count": null,
            "_view_module": "@jupyter-widgets/controls",
            "_view_module_version": "1.5.0",
            "_view_name": "ProgressView",
            "bar_style": "success",
            "description": "",
            "description_tooltip": null,
            "layout": "IPY_MODEL_bb2a6c702b2d42f787d5f96a702c1758",
            "max": 1,
            "min": 0,
            "orientation": "horizontal",
            "style": "IPY_MODEL_4958ae9f91124692b228e15cd96936fb",
            "value": 1
          }
        },
        "bb2a6c702b2d42f787d5f96a702c1758": {
          "model_module": "@jupyter-widgets/base",
          "model_module_version": "1.2.0",
          "model_name": "LayoutModel",
          "state": {
            "_model_module": "@jupyter-widgets/base",
            "_model_module_version": "1.2.0",
            "_model_name": "LayoutModel",
            "_view_count": null,
            "_view_module": "@jupyter-widgets/base",
            "_view_module_version": "1.2.0",
            "_view_name": "LayoutView",
            "align_content": null,
            "align_items": null,
            "align_self": null,
            "border": null,
            "bottom": null,
            "display": null,
            "flex": "2",
            "flex_flow": null,
            "grid_area": null,
            "grid_auto_columns": null,
            "grid_auto_flow": null,
            "grid_auto_rows": null,
            "grid_column": null,
            "grid_gap": null,
            "grid_row": null,
            "grid_template_areas": null,
            "grid_template_columns": null,
            "grid_template_rows": null,
            "height": null,
            "justify_content": null,
            "justify_items": null,
            "left": null,
            "margin": null,
            "max_height": null,
            "max_width": null,
            "min_height": null,
            "min_width": null,
            "object_fit": null,
            "object_position": null,
            "order": null,
            "overflow": null,
            "overflow_x": null,
            "overflow_y": null,
            "padding": null,
            "right": null,
            "top": null,
            "visibility": null,
            "width": null
          }
        },
        "e87743775adf440b97e0417646b21629": {
          "model_module": "@jupyter-widgets/controls",
          "model_module_version": "1.5.0",
          "model_name": "DescriptionStyleModel",
          "state": {
            "_model_module": "@jupyter-widgets/controls",
            "_model_module_version": "1.5.0",
            "_model_name": "DescriptionStyleModel",
            "_view_count": null,
            "_view_module": "@jupyter-widgets/base",
            "_view_module_version": "1.2.0",
            "_view_name": "StyleView",
            "description_width": ""
          }
        }
      }
    }
  },
  "nbformat": 4,
  "nbformat_minor": 0
}